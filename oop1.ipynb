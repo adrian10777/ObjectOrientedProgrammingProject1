{
 "cells": [
  {
   "cell_type": "code",
   "execution_count": 3,
   "metadata": {},
   "outputs": [],
   "source": [
    "class income():\n",
    "\tdef __init__(self):\n",
    "\t\tself.response = int()\n",
    "\n",
    "\tdef monthly_income(self):\n",
    "\t\trental_income= input(\"How much do you make from rent? \")\n",
    "\t\tlaundry_income= input(\"How much do you make from laundry? \")\n",
    "\t\tstorage_income= input(\"How much do you make from storage? \")\n",
    "\t\tmisc_income= input(\"How much do you make from miscellaneous? \")\n",
    "\t\ttotal_monthly_income = int(rental_income) + int(laundry_income) + int(storage_income) + int(misc_income)\n",
    "\t\tprint(f'Your total income monthly is {total_monthly_income} ')\n",
    "\t\n",
    "\tdef expenses(self):\n",
    "\t\tproperty_tax= input(\"How much do you have to pay for property tax? \")\n",
    "\t\tinsurance= input(\"How much do you have to pay for insurance \")\n",
    "\t\twater_sewer= input(\"How much do you have to pay for water and sewer? \")\n",
    "\t\tgarbage= input(\"How much do you have to pay for your garbage bill? \")\n",
    "\t\telectric= input(\"How much do you have to pay for electrity? \")\n",
    "\t\tgas= input(\"How much do you have to pay for gas? \")\n",
    "\t\thoa_fees= input(\"How much do you have to pay for HOA?\")\n",
    "\t\tlawn_snow= input(\"How much do you have to pay for maintaining your lawn? \")\n",
    "\t\tvacancy= input(\"How much do you have to pay for vacancy? \")\n",
    "\t\trepairs= input(\"How much do you have to pay for repairs? \")\n",
    "\t\tcapital_expenditure= input(\"How much do you have to pay for capital expendetures? \")\n",
    "\t\tproperty_management= input(\"How much do you have to pay for property management? \")\n",
    "\t\tmortgage= input(\"How much do you have to pay for your mortgage?? \")\n",
    "\t\ttotalexpenses = int(property_tax) + int(insurance) +int(water_sewer)+int(garbage) + int(electric) +int(gas) +int(hoa_fees) + int(lawn_snow) + int(vacancy)+ int(repairs)+int(capital_expenditure) +int(property_management) +int(mortgage)\n",
    "\t\tprint(f'You owe this amount in total monthly:\\n[2]\t\t\t${totalexpenses}\t\t\t\\n')\n",
    "\n",
    "\tdef cashflow(self):\n",
    "\t\tmonthly_income = input(\"What is your monthly income? \")\n",
    "\t\tmonthly_expenses = input(\"What are your monthly expenses? \")\n",
    "\t\ttotalmonthlycashflow = int(monthly_income) - int(monthly_expenses)\n",
    "\t\ttotalmonthlycashflow * int(12)\n",
    "\t\tprint(f'Your total monthly cash flow is:\\n[3]\t\t\t${totalmonthlycashflow}\t\t\t\\n')\n",
    "\n",
    "\tdef cashoncashreturn(self):\n",
    "\t\tdown_payment = input(\"What is your down payment? \")\n",
    "\t\tclosing_costs = input(\"What are the closing costs? \")\n",
    "\t\trehab_budget = input(\"What are the rehabilitation costs? \")\n",
    "\t\tmisc_other = input(\"What are the miscellaneous/other costs? \")\n",
    "\t\tcontingency = input(\"What are the contingency costs? \")\n",
    "\t\ttotal_investment = int(down_payment) + int(closing_costs) + int(rehab_budget) + int(contingency) + int(misc_other)\n",
    "\t\tprint(f'Your Total Investment into this property is:\\n\t\t\t\t${total_investment}\t\t\t\t\\n')\n",
    "\t\tannual_cash_flow = input (\"What's the property's Annual Cash Flow?\")\n",
    "\t\tcash_return = int(annual_cash_flow)/int(total_investment)*100\n",
    "\t\tprint(f'Your Cash on Cash Return is:\\n[4]\t\t\t{cash_return}%\t\t\t\t\\n')\n",
    "\n",
    "class youranswer:\n",
    "\tdef answer():\n",
    "\t\tprint(\"\"\"\n",
    "Welcome to the Rental Property Investment Calculator\n",
    "\n",
    "*Type letters A-D to choose what you want information on.\n",
    "\n",
    "[A] Monthly Income\n",
    "[B] Monthly Expenses\n",
    "[C] Cash Flow (Monthly and Annual)\n",
    "[D] Cash on Cash Return\n",
    "        \"\"\")\n",
    "\n",
    "def run():\n",
    "\tyouranswer.answer()\n",
    "\tmoney = income()\n",
    "\twhile True:\n",
    "\t\toption = input(\"choose a number to start or type 'quit' to stop \")\n",
    "\t\tif option == 'quit':\n",
    "\t\t\tbreak\n",
    "\t\telif option == 'A':\n",
    "\t\t\tmoney.totalrent()\n",
    "\t\telif option == 'B':\n",
    "\t\t\tmoney.expenses()\n",
    "\t\telif option == 'C':\n",
    "\t\t\tmoney.cashflow()\n",
    "\t\telif option == 'D': \n",
    "\t\t\tmoney.cashoncashreturn()\n",
    "\t\telse:\n",
    "\t\t\tprint(\"Can't you read instructions? You have to enter '1','2','3\")\n",
    "\n",
    "\n"
   ]
  },
  {
   "cell_type": "code",
   "execution_count": 4,
   "metadata": {},
   "outputs": [
    {
     "name": "stdout",
     "output_type": "stream",
     "text": [
      "\n",
      "Welcome to the Rental Property Investment Calculator\n",
      "\n",
      "*Type letters A-D to choose what you want information on.\n",
      "\n",
      "[A] Monthly Income\n",
      "[B] Monthly Expenses\n",
      "[C] Cash Flow (Monthly and Annual)\n",
      "[D] Cash on Cash Return\n",
      "        \n"
     ]
    }
   ],
   "source": [
    "youranswer.answer()\n"
   ]
  }
 ],
 "metadata": {
  "interpreter": {
   "hash": "bdc952c83ab700cb2a2ae5b1879c12b8874e08aacc21ce68ea28ff16932fb5f6"
  },
  "kernelspec": {
   "display_name": "Python 3.9.7 64-bit",
   "language": "python",
   "name": "python3"
  },
  "language_info": {
   "codemirror_mode": {
    "name": "ipython",
    "version": 3
   },
   "file_extension": ".py",
   "mimetype": "text/x-python",
   "name": "python",
   "nbconvert_exporter": "python",
   "pygments_lexer": "ipython3",
   "version": "3.9.7"
  },
  "orig_nbformat": 4
 },
 "nbformat": 4,
 "nbformat_minor": 2
}
