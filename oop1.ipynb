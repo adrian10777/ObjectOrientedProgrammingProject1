{
 "cells": [
  {
   "cell_type": "code",
   "execution_count": 33,
   "metadata": {},
   "outputs": [],
   "source": [
    "class income():\n",
    "\tdef __init__(self):\n",
    "\t\tself.response = int()\n",
    "\n",
    "\tdef income(self):\n",
    "\t\trental_income= input(\"How much do you make from rent? \")\n",
    "\t\tlaundry_income= input(\"How much do you make from laundry? \")\n",
    "\t\tstorage_income= input(\"How much do you make from storage? \")\n",
    "\t\tmisc_income= input(\"How much do you make from miscellaneous? \")\n",
    "\t\ttotal_monthly_income = int(rental_income) + int(laundry_income) + int(storage_income) + int(misc_income)\n",
    "\t\tprint(f'Your total income monthly is {total_monthly_income} ')\n",
    "\t\n",
    "\tdef expenses(self):\n",
    "\t\ttaxes= input(\"How much do you have to pay for property tax? \")\n",
    "\t\tinsurance= input(\"How much do you have to pay for insurance \")\n",
    "\t\twater_sewer= input(\"How much do you have to pay for water and sewer? \")\n",
    "\t\tgarbage= input(\"How much do you have to pay for your garbage bill? \")\n",
    "\t\telectric= input(\"How much do you have to pay for electrity? \")\n",
    "\t\tgas= input(\"How much do you have to pay for gas? \")\n",
    "\t\thoa_fees= input(\"How much do you have to pay for HOA?\")\n",
    "\t\tlawn_snow= input(\"How much do you have to pay for maintaining your lawn? \")\n",
    "\t\tvacancy= input(\"How much do you have to pay for vacancy? \")\n",
    "\t\trepairs= input(\"How much do you have to pay for repairs? \")\n",
    "\t\tcapital_expenditure= input(\"How much do you have to pay for capital expendetures? \")\n",
    "\t\tproperty_management= input(\"How much do you have to pay for property management? \")\n",
    "\t\tmortgage= input(\"How much do you have to pay for your mortgage?? \")\n",
    "\t\ttotal_monthly_expenses = int(taxes) + int(insurance) +int(water_sewer)+int(garbage) + int(electric) +int(gas) +int(hoa_fees) + int(lawn_snow) + int(vacancy)+ int(repairs)+int(capital_expenditure) +int(property_management) +int(mortgage)\n",
    "\t\tprint(f'This is your monthly total:\\n[B]${total_monthly_expenses}\\n')\n",
    "\n",
    "\tdef cashflow(self):\n",
    "\t\ttotal_monthly_income = input(\"What is your monthly income? \")\n",
    "\t\ttotal_monthly_expenses = input(\"What are your monthly expenses? \")\n",
    "\t\ttotalmonthlycashflow = int(total_monthly_income) - int(total_monthly_expenses)\n",
    "\t\ttotalmonthlycashflow * int(12)\n",
    "\t\tprint(f'Your total yearly cash flow is:\\n[C]${totalmonthlycashflow}\\n')\n",
    "\n",
    "\tdef cashoncashreturn(self):\n",
    "\t\tdown_payment = input(\"What is your down payment? \")\n",
    "\t\tclosing_costs = input(\"What are the closing costs? \")\n",
    "\t\trehab_budget = input(\"What are the rehabilitation costs? \")\n",
    "\t\tmisc_other = input(\"What are the miscellaneous/other costs? \")\n",
    "\t\ttotal_investment = int(down_payment) + int(closing_costs) + int(rehab_budget) + int(misc_other)\n",
    "\t\tprint(f'Your Total Investment into this property is:\\${total_investment}\\n')\n",
    "\t\tannual_cash_flow = input (\"What's the property's Annual Cash Flow?\")\n",
    "\t\tcash_on_cash_return = int(annual_cash_flow)/int(total_investment)*100 #to get %\n",
    "\t\tprint(f'Your Cash on Cash Return is:\\n[D]{cash_on_cash_return}%\\n')\n",
    "\n",
    "class youranswer:\n",
    "\tdef answer():\n",
    "\t\tprint(\"\"\"\n",
    "rental income, rental expenses, cash flow, and cash on cash return\n",
    "\n",
    "*Type letters A-D to choose what you want information on.\n",
    "\n",
    "[A] Monthly Income [B] Monthly Expenses [C] Cash Flow (Monthly and Annual) [D] Cash on Cash Return\n",
    "        \"\"\")\n",
    "\n",
    "\tdef run():\n",
    "\t\tyouranswer.answer()\n",
    "\t\tmoney = income()\n",
    "\t\twhile True:\n",
    "\t\t\toption = input(\"choose a letter to start or type 'quit' to stop \")\n",
    "\t\t\tif option == 'quit':\n",
    "\t\t\t\tbreak\n",
    "\t\t\telif option == 'A':\n",
    "\t\t\t\tmoney.income()\n",
    "\t\t\telif option == 'B':\n",
    "\t\t\t\tmoney.expenses()\n",
    "\t\t\telif option == 'C':\n",
    "\t\t\t\tmoney.cashflow()\n",
    "\t\t\telif option == 'D': \n",
    "\t\t\t\tmoney.cashoncashreturn()\n",
    "\t\t\telse:\n",
    "\t\t\t\tprint(\"Make sure to read the instructions carefully\")\n",
    "\n"
   ]
  },
  {
   "cell_type": "code",
   "execution_count": 34,
   "metadata": {},
   "outputs": [
    {
     "name": "stdout",
     "output_type": "stream",
     "text": [
      "\n",
      "rental income, rental expenses, cash flow, and cash on cash return\n",
      "\n",
      "*Type letters A-D to choose what you want information on.\n",
      "\n",
      "[A] Monthly Income [B] Monthly Expenses [C] Cash Flow (Monthly and Annual) [D] Cash on Cash Return\n",
      "        \n"
     ]
    },
    {
     "ename": "ValueError",
     "evalue": "invalid literal for int() with base 10: '$2,000'",
     "output_type": "error",
     "traceback": [
      "\u001b[1;31m---------------------------------------------------------------------------\u001b[0m",
      "\u001b[1;31mValueError\u001b[0m                                Traceback (most recent call last)",
      "\u001b[1;32m~\\AppData\\Local\\Temp/ipykernel_20716/3964038736.py\u001b[0m in \u001b[0;36m<module>\u001b[1;34m\u001b[0m\n\u001b[1;32m----> 1\u001b[1;33m \u001b[0myouranswer\u001b[0m\u001b[1;33m.\u001b[0m\u001b[0mrun\u001b[0m\u001b[1;33m(\u001b[0m\u001b[1;33m)\u001b[0m\u001b[1;33m\u001b[0m\u001b[1;33m\u001b[0m\u001b[0m\n\u001b[0m",
      "\u001b[1;32m~\\AppData\\Local\\Temp/ipykernel_20716/939694675.py\u001b[0m in \u001b[0;36mrun\u001b[1;34m()\u001b[0m\n\u001b[0;32m     66\u001b[0m                                 \u001b[1;32mbreak\u001b[0m\u001b[1;33m\u001b[0m\u001b[1;33m\u001b[0m\u001b[0m\n\u001b[0;32m     67\u001b[0m                         \u001b[1;32melif\u001b[0m \u001b[0moption\u001b[0m \u001b[1;33m==\u001b[0m \u001b[1;34m'A'\u001b[0m\u001b[1;33m:\u001b[0m\u001b[1;33m\u001b[0m\u001b[1;33m\u001b[0m\u001b[0m\n\u001b[1;32m---> 68\u001b[1;33m                                 \u001b[0mmoney\u001b[0m\u001b[1;33m.\u001b[0m\u001b[0mincome\u001b[0m\u001b[1;33m(\u001b[0m\u001b[1;33m)\u001b[0m\u001b[1;33m\u001b[0m\u001b[1;33m\u001b[0m\u001b[0m\n\u001b[0m\u001b[0;32m     69\u001b[0m                         \u001b[1;32melif\u001b[0m \u001b[0moption\u001b[0m \u001b[1;33m==\u001b[0m \u001b[1;34m'B'\u001b[0m\u001b[1;33m:\u001b[0m\u001b[1;33m\u001b[0m\u001b[1;33m\u001b[0m\u001b[0m\n\u001b[0;32m     70\u001b[0m                                 \u001b[0mmoney\u001b[0m\u001b[1;33m.\u001b[0m\u001b[0mexpenses\u001b[0m\u001b[1;33m(\u001b[0m\u001b[1;33m)\u001b[0m\u001b[1;33m\u001b[0m\u001b[1;33m\u001b[0m\u001b[0m\n",
      "\u001b[1;32m~\\AppData\\Local\\Temp/ipykernel_20716/939694675.py\u001b[0m in \u001b[0;36mincome\u001b[1;34m(self)\u001b[0m\n\u001b[0;32m     10\u001b[0m                 \u001b[0mstorage_income\u001b[0m\u001b[1;33m=\u001b[0m \u001b[0minput\u001b[0m\u001b[1;33m(\u001b[0m\u001b[1;34m\"How much do you make from storage? \"\u001b[0m\u001b[1;33m)\u001b[0m\u001b[1;33m\u001b[0m\u001b[1;33m\u001b[0m\u001b[0m\n\u001b[0;32m     11\u001b[0m                 \u001b[0mmisc_income\u001b[0m\u001b[1;33m=\u001b[0m \u001b[0minput\u001b[0m\u001b[1;33m(\u001b[0m\u001b[1;34m\"How much do you make from miscellaneous? \"\u001b[0m\u001b[1;33m)\u001b[0m\u001b[1;33m\u001b[0m\u001b[1;33m\u001b[0m\u001b[0m\n\u001b[1;32m---> 12\u001b[1;33m                 \u001b[0mtotal_monthly_income\u001b[0m \u001b[1;33m=\u001b[0m \u001b[0mint\u001b[0m\u001b[1;33m(\u001b[0m\u001b[0mrental_income\u001b[0m\u001b[1;33m)\u001b[0m \u001b[1;33m+\u001b[0m \u001b[0mint\u001b[0m\u001b[1;33m(\u001b[0m\u001b[0mlaundry_income\u001b[0m\u001b[1;33m)\u001b[0m \u001b[1;33m+\u001b[0m \u001b[0mint\u001b[0m\u001b[1;33m(\u001b[0m\u001b[0mstorage_income\u001b[0m\u001b[1;33m)\u001b[0m \u001b[1;33m+\u001b[0m \u001b[0mint\u001b[0m\u001b[1;33m(\u001b[0m\u001b[0mmisc_income\u001b[0m\u001b[1;33m)\u001b[0m\u001b[1;33m\u001b[0m\u001b[1;33m\u001b[0m\u001b[0m\n\u001b[0m\u001b[0;32m     13\u001b[0m                 \u001b[0mprint\u001b[0m\u001b[1;33m(\u001b[0m\u001b[1;34mf'Your total income monthly is {total_monthly_income} '\u001b[0m\u001b[1;33m)\u001b[0m\u001b[1;33m\u001b[0m\u001b[1;33m\u001b[0m\u001b[0m\n\u001b[0;32m     14\u001b[0m \u001b[1;33m\u001b[0m\u001b[0m\n",
      "\u001b[1;31mValueError\u001b[0m: invalid literal for int() with base 10: '$2,000'"
     ]
    }
   ],
   "source": [
    "youranswer.run()"
   ]
  }
 ],
 "metadata": {
  "interpreter": {
   "hash": "bdc952c83ab700cb2a2ae5b1879c12b8874e08aacc21ce68ea28ff16932fb5f6"
  },
  "kernelspec": {
   "display_name": "Python 3.9.7 64-bit",
   "language": "python",
   "name": "python3"
  },
  "language_info": {
   "codemirror_mode": {
    "name": "ipython",
    "version": 3
   },
   "file_extension": ".py",
   "mimetype": "text/x-python",
   "name": "python",
   "nbconvert_exporter": "python",
   "pygments_lexer": "ipython3",
   "version": "3.9.7"
  },
  "orig_nbformat": 4
 },
 "nbformat": 4,
 "nbformat_minor": 2
}
